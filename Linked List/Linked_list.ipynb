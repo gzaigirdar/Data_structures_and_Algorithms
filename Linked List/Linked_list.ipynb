{
 "cells": [
  {
   "cell_type": "code",
   "execution_count": 1,
   "id": "b204e0da-956a-4c9c-b85f-53851e578c8c",
   "metadata": {},
   "outputs": [],
   "source": [
    "class Node():\n",
    "    def __init__(self,data):\n",
    "        self.val = data\n",
    "        self.next = None\n",
    "        \n",
    " \n",
    "    \n",
    "    "
   ]
  },
  {
   "cell_type": "code",
   "execution_count": 167,
   "id": "796ac0f4-097a-49b4-844a-32d0bb835098",
   "metadata": {},
   "outputs": [],
   "source": [
    "class LinkedList:\n",
    "\n",
    "    # constructer \n",
    "    def __init__(self):\n",
    "        self.head = None\n",
    "        self.tail = None\n",
    "        self.size = 0\n",
    "    # this method traverses through linked list and print all the values in the linked list\n",
    "    def display(self,):\n",
    "        temp = self.head \n",
    "        while temp is not None:\n",
    "            print(f'{temp.val} ')\n",
    "            temp = temp.next\n",
    "    # this method adds a new node to end of the linked list\n",
    "    def append(self,val):\n",
    "        temp = Node(val)\n",
    "        if self.head == None:\n",
    "            self.head = temp\n",
    "            self.tail = temp\n",
    "            self.size += 1\n",
    "        else:\n",
    "            self.tail.next = temp\n",
    "            self.tail = temp \n",
    "            self.size += 1\n",
    "\n",
    "    # this method removes the last node from the linked list\n",
    "    def pop(self):\n",
    "        if self.size == 0:\n",
    "            return None\n",
    "        \n",
    "        prev = self.head\n",
    "        curr = self.head\n",
    "        \n",
    "        \n",
    "        # using two pointers to loop thorugh the list to find last node and it's previouse node\n",
    "        while (curr.next):\n",
    "             prev = curr\n",
    "             curr = curr.next\n",
    "        # at the end of loop. prev will have node before the last node. \n",
    "        prev.next = None\n",
    "        self.tail = prev\n",
    "        self.size -= 1\n",
    "        # case for  if there is only one node in the list\n",
    "        if self.size == 0:\n",
    "            self.head = None\n",
    "            self.tail = None\n",
    "        return curr\n",
    "\n",
    "    # adds a node in the begining of the linked list \n",
    "\n",
    "    def prepend(self,val):\n",
    "        temp = Node(val)\n",
    "        if self.head is None:\n",
    "         \n",
    "            self.head = temp\n",
    "            self.tail = temp\n",
    "        else:\n",
    "            \n",
    "            temp.next = self.head\n",
    "            self.head = temp \n",
    "            \n",
    "        self.size += 1\n",
    "    \n",
    "\n",
    "    # removese the first element from the list\n",
    "        \n",
    "    def pop_first(self):\n",
    "\n",
    "        if self.size == 0:\n",
    "            return 'Zero elements in the list'\n",
    "        \n",
    "        \n",
    "        temp = self.head \n",
    "        self.head = self.head.next\n",
    "        self.size -= 1\n",
    "\n",
    "        if self.size == 0:\n",
    "            self.tail = None\n",
    "        return temp\n",
    "\n",
    "     # this method gets you the node based on a index \n",
    "    def get(self,index):\n",
    "        # first check to see if the index is neagtive number or index is out of range of the list\n",
    "\n",
    "        if index < 0 or index >= self.size:\n",
    "            return None\n",
    "        # using loop to iterate all the elements until index val\n",
    "\n",
    "        temp = self.head\n",
    "        # index-1 will be the last element in the loop, which is why assigning temp.next\n",
    "        for _ in range(index):\n",
    "            temp = temp.next\n",
    "        return temp\n",
    "\n",
    "    # this function changes value of a node by using it's index \n",
    "\n",
    "    def set_value(self,index,value):\n",
    "\n",
    "        if index < 0 or index >= self.size:\n",
    "            return \"invalid index\"\n",
    "\n",
    "\n",
    "        # calling the get method will return the node associated with the index \n",
    "\n",
    "        temp = self.get(index)\n",
    "        if temp:\n",
    "            temp.val = value \n",
    "            return True \n",
    "        return  False \n",
    "    # this function adds a node to a index postion \n",
    "\n",
    "    def insert(self,index,value):\n",
    "\n",
    "        if index < 0 or index > self.size:\n",
    "            return \"index invalid\"\n",
    "\n",
    "        # if linked list empty add the element to head and tail\n",
    "\n",
    "        if self.size == 0:\n",
    "            self.prepend(value)\n",
    "            return self.head\n",
    "        # index equaling the size is adding new node at the end of the list,since that index doesn't exist,due index starting at zero\n",
    "        if self.size == index:\n",
    "            self.append(value)\n",
    "            return  \n",
    "        \n",
    "        new_node = Node(value)\n",
    "        # used get method to find the previus node of where you want to add thew new node \n",
    "        temp = self.get(index-1)\n",
    "        new_node.next = temp.next\n",
    "        temp.next = new_node\n",
    "        self.size += 1\n",
    "        return new_node\n",
    "\n",
    "    # this function removes a node based on this index \n",
    "    def remove(self,index):\n",
    "        if index <  0 or index >= self.size:\n",
    "            return \"invalid index\"\n",
    "        if index == 0:\n",
    "            self.pop_first()\n",
    "            return True\n",
    "        if index == self.size-1:\n",
    "            self.pop()\n",
    "            return True \n",
    "        # get the prev node using get function\n",
    "        prev = self.get(index-1)\n",
    "        temp = prev.next\n",
    "        prev.next = temp.next\n",
    "        temp.next = None\n",
    "        self.size -= 1\n",
    "        return temp \n",
    "\n",
    "\n",
    "        \n",
    "\n",
    "    # this function takes list of  values and adds to the linked list \n",
    "    \n",
    "    def add_multi_val(self,nums):\n",
    "        for i in range(len(nums)):\n",
    "            self.prepend(nums[i])\n",
    "\n",
    "\n",
    "    def reverse(self):\n",
    "        prev = None\n",
    "        curr = self.head\n",
    "\n",
    "        \n",
    "        while curr:\n",
    "            \n",
    "       \n",
    "            after = curr.next\n",
    "            curr.next = prev\n",
    "            \n",
    "            prev = curr\n",
    "            '''\n",
    "            if tail doesn't exit then we need to update self.head each time \n",
    "            self.head = curr \n",
    "            '''\n",
    "            curr = after\n",
    "           \n",
    "        #self.head , self.tail = self.tail , self.head\n",
    "        \n",
    "\n",
    "            \n",
    "        \n",
    "    def find_the_middle_element(self):\n",
    "\n",
    "        slow = self.head\n",
    "        fast = self.head\n",
    "\n",
    "        while fast and fast.next is not None:\n",
    "            slow = slow.next\n",
    "            fast = fast.next.next\n",
    "        return slow \n",
    "    \n",
    "    \n",
    "   \n",
    "        \n",
    "        \n",
    "    \n",
    "       \n",
    "\n",
    "       \n",
    "\n",
    "\n",
    "     \n",
    "       \n",
    "            \n",
    "            \n",
    "            \n",
    "            "
   ]
  },
  {
   "cell_type": "code",
   "execution_count": 195,
   "id": "c2e2158d-5aa5-49fa-8519-d80de629330c",
   "metadata": {},
   "outputs": [],
   "source": [
    "ll = LinkedList()"
   ]
  },
  {
   "cell_type": "code",
   "execution_count": 201,
   "id": "b5c75984-1330-4334-a5f6-6f59bd816e25",
   "metadata": {},
   "outputs": [],
   "source": [
    "ll.add_multi_val([1,2,3,4,5,6,7])"
   ]
  },
  {
   "cell_type": "code",
   "execution_count": 202,
   "id": "3e40bb8f-b90a-408d-935e-fb9f029e9bf8",
   "metadata": {},
   "outputs": [
    {
     "name": "stdout",
     "output_type": "stream",
     "text": [
      "7 \n",
      "6 \n",
      "5 \n",
      "4 \n",
      "3 \n",
      "2 \n",
      "1 \n",
      "7 \n",
      "6 \n",
      "5 \n",
      "4 \n",
      "3 \n",
      "2 \n",
      "1 \n"
     ]
    }
   ],
   "source": [
    "ll.display()"
   ]
  },
  {
   "cell_type": "code",
   "execution_count": 198,
   "id": "aecf3054-b81c-4d7b-8e92-f5a3bfef3394",
   "metadata": {},
   "outputs": [],
   "source": [
    "temp = ll.find_the_middle_element()"
   ]
  },
  {
   "cell_type": "code",
   "execution_count": 199,
   "id": "bd64c029-2503-4460-ad4f-c94939799edb",
   "metadata": {},
   "outputs": [
    {
     "name": "stdout",
     "output_type": "stream",
     "text": [
      "7 \n",
      "6 \n",
      "5 \n",
      "4 \n",
      "3 \n",
      "2 \n",
      "1 \n"
     ]
    }
   ],
   "source": [
    "ll.display()"
   ]
  },
  {
   "cell_type": "code",
   "execution_count": 200,
   "id": "bfe76d75-9d46-4ad6-8ee1-6c8694c31c02",
   "metadata": {},
   "outputs": [
    {
     "data": {
      "text/plain": [
       "4"
      ]
     },
     "execution_count": 200,
     "metadata": {},
     "output_type": "execute_result"
    }
   ],
   "source": [
    "temp.val\n"
   ]
  },
  {
   "cell_type": "code",
   "execution_count": 90,
   "id": "f7beaf41-86ce-48dc-b926-3eb535fab1bd",
   "metadata": {},
   "outputs": [
    {
     "data": {
      "text/plain": [
       "5"
      ]
     },
     "execution_count": 90,
     "metadata": {},
     "output_type": "execute_result"
    }
   ],
   "source": [
    "ll.tail.val\n"
   ]
  },
  {
   "cell_type": "code",
   "execution_count": 91,
   "id": "5d2e8f24-67ce-478f-ba10-850318d4224a",
   "metadata": {},
   "outputs": [
    {
     "data": {
      "text/plain": [
       "1"
      ]
     },
     "execution_count": 91,
     "metadata": {},
     "output_type": "execute_result"
    }
   ],
   "source": [
    "ll.head.val"
   ]
  },
  {
   "cell_type": "code",
   "execution_count": null,
   "id": "6180bf59-386a-40bd-9aa2-84aa9fd06268",
   "metadata": {},
   "outputs": [],
   "source": []
  }
 ],
 "metadata": {
  "kernelspec": {
   "display_name": "Python 3 (ipykernel)",
   "language": "python",
   "name": "python3"
  },
  "language_info": {
   "codemirror_mode": {
    "name": "ipython",
    "version": 3
   },
   "file_extension": ".py",
   "mimetype": "text/x-python",
   "name": "python",
   "nbconvert_exporter": "python",
   "pygments_lexer": "ipython3",
   "version": "3.12.5"
  }
 },
 "nbformat": 4,
 "nbformat_minor": 5
}
