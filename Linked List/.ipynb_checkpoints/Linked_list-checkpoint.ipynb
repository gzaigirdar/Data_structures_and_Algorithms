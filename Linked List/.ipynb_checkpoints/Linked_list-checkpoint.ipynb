{
 "cells": [
  {
   "cell_type": "code",
   "execution_count": 12,
   "id": "b204e0da-956a-4c9c-b85f-53851e578c8c",
   "metadata": {},
   "outputs": [],
   "source": [
    "class Node():\n",
    "    def __init__(self,data):\n",
    "        self.val = data\n",
    "        self.next = None\n",
    "        \n",
    " \n",
    "    \n",
    "    "
   ]
  },
  {
   "cell_type": "code",
   "execution_count": 200,
   "id": "796ac0f4-097a-49b4-844a-32d0bb835098",
   "metadata": {},
   "outputs": [],
   "source": [
    "class LinkedList:\n",
    "\n",
    "    # constructer \n",
    "    def __init__(self):\n",
    "        self.head = None\n",
    "        self.tail = None\n",
    "        self.size = 0\n",
    "    # this method traverses through linked list and print all the values in the linked list\n",
    "    def display(self,):\n",
    "        temp = self.head \n",
    "        while temp is not None:\n",
    "            print(f'{temp.val} ')\n",
    "            temp = temp.next\n",
    "    # this method adds a new node to end of the linked list\n",
    "    def append(self,val):\n",
    "        temp = Node(val)\n",
    "        if self.head == None:\n",
    "            self.head = temp\n",
    "            self.tail = temp\n",
    "            self.size += 1\n",
    "        else:\n",
    "            self.tail.next = temp\n",
    "            self.tail = temp \n",
    "            self.size += 1\n",
    "\n",
    "    # this method removes the last node from the linked list\n",
    "    def pop(self):\n",
    "        if self.size == 0:\n",
    "            return None\n",
    "        \n",
    "        prev = self.head\n",
    "        curr = self.head\n",
    "        \n",
    "        \n",
    "        # using two pointers to loop thorugh the list to find last node and it's previouse node\n",
    "        while (curr.next):\n",
    "             prev = curr\n",
    "             curr = curr.next\n",
    "        # at the end of loop. prev will have node before the last node. \n",
    "        prev.next = None\n",
    "        self.tail = prev\n",
    "        self.size -= 1\n",
    "        # case for  if there is only one node in the list\n",
    "        if self.size == 0:\n",
    "            self.head = None\n",
    "            self.tail = None\n",
    "        return curr.val\n",
    "            \n",
    "\n",
    "        \n",
    "\n",
    "       \n",
    "            \n",
    "            \n",
    "            \n",
    "            "
   ]
  },
  {
   "cell_type": "code",
   "execution_count": 188,
   "id": "c2e2158d-5aa5-49fa-8519-d80de629330c",
   "metadata": {},
   "outputs": [],
   "source": [
    "ll = LinkedList()"
   ]
  },
  {
   "cell_type": "code",
   "execution_count": 189,
   "id": "41edd0a0-14a7-4f3b-8830-8c4f852f0a97",
   "metadata": {},
   "outputs": [],
   "source": [
    "ll.append(7)\n",
    "ll.append(8)\n",
    "ll.append(9)\n",
    "ll.append(10)\n"
   ]
  },
  {
   "cell_type": "code",
   "execution_count": 190,
   "id": "ffbded7f-2737-4bf0-9697-caf886173c8c",
   "metadata": {},
   "outputs": [
    {
     "name": "stdout",
     "output_type": "stream",
     "text": [
      "7 \n",
      "8 \n",
      "9 \n",
      "10 \n"
     ]
    }
   ],
   "source": [
    "ll.display()"
   ]
  },
  {
   "cell_type": "code",
   "execution_count": 199,
   "id": "b94833d8-09d5-462e-9ac7-58975076c308",
   "metadata": {},
   "outputs": [],
   "source": [
    "ll.display()"
   ]
  },
  {
   "cell_type": "code",
   "execution_count": 198,
   "id": "f226af2a-821f-481d-ad11-bc917704d7e7",
   "metadata": {},
   "outputs": [
    {
     "data": {
      "text/plain": [
       "7"
      ]
     },
     "execution_count": 198,
     "metadata": {},
     "output_type": "execute_result"
    }
   ],
   "source": [
    "ll.pop()"
   ]
  },
  {
   "cell_type": "code",
   "execution_count": null,
   "id": "8d357602-4526-475c-b6c5-ce4380167af3",
   "metadata": {},
   "outputs": [],
   "source": []
  },
  {
   "cell_type": "code",
   "execution_count": null,
   "id": "a7a9cd44-5a0a-4d4e-8fac-3a2fd717c552",
   "metadata": {},
   "outputs": [],
   "source": []
  }
 ],
 "metadata": {
  "kernelspec": {
   "display_name": "Python 3 (ipykernel)",
   "language": "python",
   "name": "python3"
  },
  "language_info": {
   "codemirror_mode": {
    "name": "ipython",
    "version": 3
   },
   "file_extension": ".py",
   "mimetype": "text/x-python",
   "name": "python",
   "nbconvert_exporter": "python",
   "pygments_lexer": "ipython3",
   "version": "3.12.5"
  }
 },
 "nbformat": 4,
 "nbformat_minor": 5
}
