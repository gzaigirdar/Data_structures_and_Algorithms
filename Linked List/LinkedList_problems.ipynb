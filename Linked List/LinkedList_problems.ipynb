{
 "cells": [
  {
   "cell_type": "code",
   "execution_count": null,
   "id": "992cb0ed-a7fb-449d-a0d6-9af9e067876a",
   "metadata": {},
   "outputs": [],
   "source": [
    "# this removes all the instances of duplicates in a linked list \n",
    "seen = set()\n",
    "duplicates = set()\n",
    "\n",
    "while temp is not None:\n",
    "    if temp.val in seen:\n",
    "        duplicates.add(temp.val)\n",
    "        temp = temp.next\n",
    "    else: \n",
    "        seen.add(temp.val)\n",
    "        temp = temp.next\n",
    "prev = ll.head \n",
    "temp = ll.head\n",
    "\n",
    "while temp:\n",
    "    if temp.val == ll.head.val and temp.val in duplicates:\n",
    "        ll.head = ll.head.next\n",
    "        temp = self.head\n",
    "    elif temp.val in duplicates: \n",
    "         prev.next = temp.next\n",
    "         temp = temp.next \n",
    "    else:\n",
    "        prev = temp\n",
    "        temp = temp.next \n",
    "        "
   ]
  }
 ],
 "metadata": {
  "kernelspec": {
   "display_name": "Python 3 (ipykernel)",
   "language": "python",
   "name": "python3"
  },
  "language_info": {
   "codemirror_mode": {
    "name": "ipython",
    "version": 3
   },
   "file_extension": ".py",
   "mimetype": "text/x-python",
   "name": "python",
   "nbconvert_exporter": "python",
   "pygments_lexer": "ipython3",
   "version": "3.12.5"
  }
 },
 "nbformat": 4,
 "nbformat_minor": 5
}
